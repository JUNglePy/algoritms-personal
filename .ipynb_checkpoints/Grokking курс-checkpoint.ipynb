{
 "cells": [
  {
   "cell_type": "markdown",
   "id": "88c74c6d",
   "metadata": {},
   "source": [
    "Sliding window"
   ]
  },
  {
   "cell_type": "markdown",
   "id": "b27a4520",
   "metadata": {},
   "source": [
    "Given an array of positive numbers and a positive number ‘S’, find the length of the smallest contiguous subarray whose sum is greater than or equal to ‘S’. Return 0, if no such subarray exists.\n",
    "Input: [2, 1, 5, 2, 3, 2], S=7 \n",
    "Output: 2"
   ]
  },
  {
   "cell_type": "code",
   "execution_count": null,
   "id": "54ff321a",
   "metadata": {},
   "outputs": [],
   "source": [
    "def smallest_sub(arr, s):\n",
    "    for end in range(len(arr)):\n",
    "        "
   ]
  }
 ],
 "metadata": {
  "kernelspec": {
   "display_name": "Python 3",
   "language": "python",
   "name": "python3"
  },
  "language_info": {
   "codemirror_mode": {
    "name": "ipython",
    "version": 3
   },
   "file_extension": ".py",
   "mimetype": "text/x-python",
   "name": "python",
   "nbconvert_exporter": "python",
   "pygments_lexer": "ipython3",
   "version": "3.8.8"
  }
 },
 "nbformat": 4,
 "nbformat_minor": 5
}
