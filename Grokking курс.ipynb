{
 "cells": [
  {
   "cell_type": "markdown",
   "id": "3f7180f0",
   "metadata": {},
   "source": [
    "Sliding window"
   ]
  },
  {
   "cell_type": "markdown",
   "id": "010a9e97",
   "metadata": {},
   "source": [
    "Given an array of positive numbers and a positive number ‘S’, find the length of the smallest contiguous subarray whose sum is greater than or equal to ‘S’. Return 0, if no such subarray exists.\n",
    "Input: [2, 1, 5, 2, 3, 2], S=7 \n",
    "Output: 2"
   ]
  },
  {
   "cell_type": "code",
   "execution_count": 12,
   "id": "0a8acca5",
   "metadata": {},
   "outputs": [],
   "source": [
    "def smallest_sub(arr, s):\n",
    "    summ = 0\n",
    "    start = 0\n",
    "    smalest = len(arr) + 1\n",
    "    for end in range(len(arr)):\n",
    "        summ += arr[end]\n",
    "        while summ >= s:\n",
    "            smalest = min(smalest, end - start + 1)\n",
    "            summ -= arr[start]\n",
    "            start += 1\n",
    "    if smalest == len(arr) + 1:\n",
    "        return 0\n",
    "    return smalest"
   ]
  },
  {
   "cell_type": "code",
   "execution_count": 13,
   "id": "c99547ea",
   "metadata": {},
   "outputs": [
    {
     "data": {
      "text/plain": [
       "1"
      ]
     },
     "execution_count": 13,
     "metadata": {},
     "output_type": "execute_result"
    }
   ],
   "source": [
    "a = [2, 1, 5, 2, 3, 2]\n",
    "smallest_sub(a, 0)"
   ]
  },
  {
   "cell_type": "markdown",
   "id": "346ae966",
   "metadata": {},
   "source": [
    "**Longest Substring with K Distinct Characters (medium)**\n",
    "Given a string, find the length of the longest substring in it with no more than K distinct characters.\n",
    "\n",
    "Input: String=\"araaci\", K=2\n",
    "Output: 4\n",
    "Explanation: The longest substring with no more than '2' distinct characters is \"araa\"."
   ]
  },
  {
   "cell_type": "code",
   "execution_count": 29,
   "id": "03629a1d",
   "metadata": {},
   "outputs": [],
   "source": [
    "from collections import defaultdict\n",
    "\n",
    "\n",
    "def longest_sub(s, k):\n",
    "    longest = 0\n",
    "    syms = defaultdict(int)\n",
    "    start = 0\n",
    "    for end in range(len(s)):\n",
    "        syms[s[end]] += 1\n",
    "        while len(syms) > k:\n",
    "            syms[s[start]] -= 1\n",
    "            if syms[s[start]] <= 0:\n",
    "                del syms[s[start]]\n",
    "            start += 1\n",
    "        if len(syms) <= k:\n",
    "            longest = max(longest, end - start + 1)\n",
    "    return longest"
   ]
  },
  {
   "cell_type": "code",
   "execution_count": 30,
   "id": "8d002026",
   "metadata": {},
   "outputs": [
    {
     "data": {
      "text/plain": [
       "1"
      ]
     },
     "execution_count": 30,
     "metadata": {},
     "output_type": "execute_result"
    }
   ],
   "source": [
    "longest_sub(\"a\", 1)"
   ]
  },
  {
   "cell_type": "markdown",
   "id": "0936adb9",
   "metadata": {},
   "source": [
    "**Fruits into Baskets (medium)**\n",
    "\n",
    "Problem Statement #\n",
    "Given an array of characters where each character represents a fruit tree, you are given two baskets and your goal is to put maximum number of fruits in each basket. The only restriction is that each basket can have only one type of fruit.\n",
    "\n",
    "You can start with any tree, but once you have started you can’t skip a tree. You will pick one fruit from each tree until you cannot, i.e., you will stop when you have to pick from a third fruit type.\n",
    "\n",
    "Write a function to return the maximum number of fruits in both the baskets.\n",
    "\n",
    "Example 1:\n",
    "\n",
    "Input: Fruit=['A', 'B', 'C', 'A', 'C']\n",
    "Output: 3\n",
    "Explanation: We can put 2 'C' in one basket and one 'A' in the other from the subarray ['C', 'A', 'C']"
   ]
  },
  {
   "cell_type": "code",
   "execution_count": 33,
   "id": "7a0f7993",
   "metadata": {},
   "outputs": [],
   "source": [
    "def max_tree(arr):\n",
    "    k = 2\n",
    "    longest = 0\n",
    "    fruits = defaultdict(int)\n",
    "    start = 0\n",
    "    for end in range(len(arr)):\n",
    "        fruits[arr[end]] += 1\n",
    "        while len(fruits) > k:\n",
    "            fruits[arr[start]] -= 1\n",
    "            if fruits[arr[start]] <= 0:\n",
    "                del fruits[arr[start]]\n",
    "            start += 1\n",
    "        if len(fruits) <= k:\n",
    "            longest = max(longest, end - start + 1)\n",
    "    return longest\n"
   ]
  },
  {
   "cell_type": "code",
   "execution_count": 35,
   "id": "37f6655e",
   "metadata": {},
   "outputs": [
    {
     "data": {
      "text/plain": [
       "5"
      ]
     },
     "execution_count": 35,
     "metadata": {},
     "output_type": "execute_result"
    }
   ],
   "source": [
    "max_tree(['A', 'B', 'C', 'B', 'B', 'C'])"
   ]
  },
  {
   "cell_type": "markdown",
   "id": "aa21b60a",
   "metadata": {},
   "source": [
    "**No-repeat Substring (hard)**\n",
    "Given a string, find the length of the longest substring which has no repeating characters.\n",
    "\n",
    "Example 1:\n",
    "\n",
    "Input: String=\"aabcbbb\"\n",
    "Output: 3\n",
    "Explanation: The longest substring without any repeating characters is \"abc\".\n"
   ]
  },
  {
   "cell_type": "code",
   "execution_count": 39,
   "id": "12ac3bb5",
   "metadata": {},
   "outputs": [],
   "source": [
    "def longest_subs(s):\n",
    "    start = 0\n",
    "    symbs_inds = dict()\n",
    "    longest = 0\n",
    "    for end in range(len(s)):\n",
    "        if s[end] not in symbs_inds:\n",
    "            symbs_inds[s[end]] = end\n",
    "            longest = max(longest, end - start + 1)\n",
    "        else:\n",
    "            left_edge = symbs_inds[s[end]]\n",
    "            while start <= left_edge:\n",
    "                del symbs_inds[s[start]]\n",
    "                start += 1\n",
    "            symbs_inds[s[end]] = end\n",
    "    return longest"
   ]
  },
  {
   "cell_type": "code",
   "execution_count": 47,
   "id": "274a21d8",
   "metadata": {},
   "outputs": [
    {
     "data": {
      "text/plain": [
       "0"
      ]
     },
     "execution_count": 47,
     "metadata": {},
     "output_type": "execute_result"
    }
   ],
   "source": [
    "longest_subs(\"\")"
   ]
  },
  {
   "cell_type": "markdown",
   "id": "79c21da6",
   "metadata": {},
   "source": [
    "**Longest Substring with Same Letters after Replacement (hard)**\n",
    "Given a string with lowercase letters only, if you are allowed to replace no more than ‘k’ letters with any letter, find the length of the longest substring having the same letters after replacement.\n",
    "\n",
    "Example 1:\n",
    "\n",
    "Input: String=\"aabbccbbddccdddddd\", k=2\n",
    "Output: 5\n",
    "Explanation: Replace the two 'c' with 'b' to have a longest repeating substring \"bbbbb\"."
   ]
  },
  {
   "cell_type": "code",
   "execution_count": 12,
   "id": "fb30872b",
   "metadata": {},
   "outputs": [],
   "source": [
    "     "
   ]
  },
  {
   "cell_type": "code",
   "execution_count": 21,
   "id": "3d5934c6",
   "metadata": {},
   "outputs": [
    {
     "data": {
      "text/plain": [
       "8"
      ]
     },
     "execution_count": 21,
     "metadata": {},
     "output_type": "execute_result"
    }
   ],
   "source": [
    "a = \"TNTTTTTNNNNNT\"\n",
    "max(sub_with_replacement(a, 2), sub_with_replacement(a[::-1], 2))"
   ]
  },
  {
   "cell_type": "code",
   "execution_count": 13,
   "id": "27cf0fbf",
   "metadata": {},
   "outputs": [
    {
     "name": "stdout",
     "output_type": "stream",
     "text": [
      "0:0, longest=0, replace_av=1, symb=b\n",
      "0:1, longest=1, replace_av=0, symb=b\n",
      "2:2, longest=2, replace_av=0, symb=b\n",
      "3:3, longest=2, replace_av=0, symb=b\n",
      "4:4, longest=2, replace_av=0, symb=b\n",
      "5:5, longest=2, replace_av=0, symb=b\n",
      "6:6, longest=2, replace_av=0, symb=b\n",
      "7:7, longest=2, replace_av=0, symb=b\n",
      "8:8, longest=2, replace_av=0, symb=b\n",
      "9:9, longest=2, replace_av=0, symb=b\n",
      "9:10, longest=2, replace_av=0, symb=b\n",
      "0:0, longest=0, replace_av=0, symb=a\n",
      "0:1, longest=1, replace_av=0, symb=a\n",
      "1:2, longest=2, replace_av=0, symb=a\n",
      "3:3, longest=2, replace_av=0, symb=a\n",
      "4:4, longest=2, replace_av=0, symb=a\n",
      "5:5, longest=2, replace_av=0, symb=a\n",
      "6:6, longest=2, replace_av=0, symb=a\n",
      "7:7, longest=2, replace_av=0, symb=a\n",
      "8:8, longest=2, replace_av=0, symb=a\n",
      "8:9, longest=2, replace_av=0, symb=a\n",
      "9:10, longest=2, replace_av=0, symb=a\n",
      "0:0, longest=0, replace_av=0, symb=w\n",
      "1:1, longest=1, replace_av=0, symb=w\n",
      "1:2, longest=1, replace_av=0, symb=w\n",
      "2:3, longest=2, replace_av=0, symb=w\n",
      "2:4, longest=2, replace_av=0, symb=w\n",
      "4:5, longest=3, replace_av=0, symb=w\n",
      "4:6, longest=3, replace_av=0, symb=w\n",
      "4:7, longest=3, replace_av=0, symb=w\n",
      "4:8, longest=4, replace_av=0, symb=w\n",
      "6:9, longest=5, replace_av=0, symb=w\n",
      "10:10, longest=5, replace_av=0, symb=w\n",
      "0:0, longest=0, replace_av=0, symb=r\n",
      "1:1, longest=1, replace_av=0, symb=r\n",
      "2:2, longest=1, replace_av=0, symb=r\n",
      "2:3, longest=1, replace_av=0, symb=r\n",
      "3:4, longest=2, replace_av=0, symb=r\n",
      "5:5, longest=2, replace_av=0, symb=r\n",
      "6:6, longest=2, replace_av=0, symb=r\n",
      "7:7, longest=2, replace_av=0, symb=r\n",
      "8:8, longest=2, replace_av=0, symb=r\n",
      "9:9, longest=2, replace_av=0, symb=r\n",
      "10:10, longest=2, replace_av=0, symb=r\n",
      "0:0, longest=0, replace_av=0, symb=f\n",
      "1:1, longest=1, replace_av=0, symb=f\n",
      "2:2, longest=1, replace_av=0, symb=f\n",
      "3:3, longest=1, replace_av=0, symb=f\n",
      "4:4, longest=1, replace_av=0, symb=f\n",
      "4:5, longest=1, replace_av=0, symb=f\n",
      "5:6, longest=2, replace_av=0, symb=f\n",
      "7:7, longest=2, replace_av=0, symb=f\n",
      "8:8, longest=2, replace_av=0, symb=f\n",
      "9:9, longest=2, replace_av=0, symb=f\n",
      "10:10, longest=2, replace_av=0, symb=f\n"
     ]
    },
    {
     "data": {
      "text/plain": [
       "5"
      ]
     },
     "execution_count": 13,
     "metadata": {},
     "output_type": "execute_result"
    }
   ],
   "source": [
    "def longest_repeating(s,k):\n",
    "    symbs = dict()\n",
    "    res = []\n",
    "    for symb in s:\n",
    "        symbs[symb] = 0\n",
    "    for symb in symbs:\n",
    "        start, end = 0, 0\n",
    "        longest = 0\n",
    "        replace_availible = k\n",
    "        while end < len(s):\n",
    "            if s[end] != symb:\n",
    "                if replace_availible == 0:\n",
    "                    if s[start] != symb and k != 0:\n",
    "                        replace_availible += 1\n",
    "                    start, end = start+1, end\n",
    "                    if start > end:\n",
    "                        end = start\n",
    "                    continue\n",
    "                replace_availible -= 1\n",
    "            longest = max(longest, end - start + 1)\n",
    "            end += 1\n",
    "        res.append(longest)\n",
    "    return max(res)\n",
    "\n",
    "\n",
    "longest_repeating(\"bawrwfwwwab\", 1)"
   ]
  },
  {
   "cell_type": "markdown",
   "id": "5f39a864",
   "metadata": {},
   "source": [
    "**Two pointers**"
   ]
  },
  {
   "cell_type": "markdown",
   "id": "3eac0910",
   "metadata": {},
   "source": [
    "**Pair with Target Sum**\n",
    "\n",
    "Given an array of sorted numbers and a target sum, find a pair in the array whose sum is equal to the given target.\n",
    "\n",
    "Write a function to return the indices of the two numbers (i.e. the pair) such that they add up to the given target.\n",
    "\n",
    "Input: [1, 2, 3, 4, 6], target=6\n",
    "Output: [1, 3]\n",
    "Explanation: The numbers at index 1 and 3 add up to 6: 2+4=6"
   ]
  },
  {
   "cell_type": "code",
   "execution_count": 1,
   "id": "47075ab4",
   "metadata": {},
   "outputs": [],
   "source": [
    "def pair_sum(arr, target):\n",
    "    p1 = 0\n",
    "    p2 = len(arr) - 1\n",
    "    while p1 != p2:\n",
    "        two_sum = arr[p1] + arr[p2]\n",
    "        if  two_sum > target:\n",
    "            p2 -= 1\n",
    "        elif two_sum < target:\n",
    "            p1 += 1\n",
    "        else:\n",
    "            return [p1, p2]\n",
    "    return []\n",
    "    "
   ]
  },
  {
   "cell_type": "code",
   "execution_count": 5,
   "id": "755bd031",
   "metadata": {},
   "outputs": [
    {
     "data": {
      "text/plain": [
       "-1"
      ]
     },
     "execution_count": 5,
     "metadata": {},
     "output_type": "execute_result"
    }
   ],
   "source": [
    "pair_sum([3,2,4], 6)"
   ]
  },
  {
   "cell_type": "markdown",
   "id": "e72e6f94",
   "metadata": {},
   "source": [
    "**Remove Duplicates (easy)**\n",
    "\n",
    "Given an array of sorted numbers, remove all duplicates from it. You should not use any extra space; after removing the duplicates in-place return the new length of the array.\n",
    "\n",
    "Example 1:\n",
    "\n",
    "Input: [2, 3, 3, 3, 6, 9, 9]\n",
    "Output: 4\n",
    "Explanation: The first four elements after removing the duplicates will be [2, 3, 6, 9]."
   ]
  },
  {
   "cell_type": "code",
   "execution_count": 23,
   "id": "431671e7",
   "metadata": {},
   "outputs": [],
   "source": [
    "def remove_duplicates(nums):\n",
    "    writer = 1\n",
    "    for i in range(1, len(nums)):\n",
    "        if nums[i] != nums[writer - 1]:\n",
    "            nums[writer] = nums[i]\n",
    "            writer += 1\n",
    "    return nums\n"
   ]
  },
  {
   "cell_type": "code",
   "execution_count": 24,
   "id": "340a9dac",
   "metadata": {},
   "outputs": [
    {
     "data": {
      "text/plain": [
       "[2, 3, 6, 9, 6, 9, 9]"
      ]
     },
     "execution_count": 24,
     "metadata": {},
     "output_type": "execute_result"
    }
   ],
   "source": [
    "a = [2, 3, 3, 3, 6, 9, 9]\n",
    "remove_duplicates(a)"
   ]
  }
 ],
 "metadata": {
  "kernelspec": {
   "display_name": "Python 3",
   "language": "python",
   "name": "python3"
  },
  "language_info": {
   "codemirror_mode": {
    "name": "ipython",
    "version": 3
   },
   "file_extension": ".py",
   "mimetype": "text/x-python",
   "name": "python",
   "nbconvert_exporter": "python",
   "pygments_lexer": "ipython3",
   "version": "3.8.8"
  }
 },
 "nbformat": 4,
 "nbformat_minor": 5
}
